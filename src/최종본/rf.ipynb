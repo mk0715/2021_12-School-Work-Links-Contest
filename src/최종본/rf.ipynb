{
 "cells": [
  {
   "cell_type": "markdown",
   "id": "0c08e617",
   "metadata": {},
   "source": [
    "## 모듈 import"
   ]
  },
  {
   "cell_type": "code",
   "execution_count": 1,
   "id": "1134268d",
   "metadata": {},
   "outputs": [
    {
     "name": "stdout",
     "output_type": "stream",
     "text": [
      "Pandas : 1.3.2\n",
      "Numpy : 1.19.5\n",
      "matplotlib : 3.3.4\n",
      "pycaret : 2.3.3\n",
      "Python 3.8.8\n"
     ]
    }
   ],
   "source": [
    "#모듈 import\n",
    "import pandas as pd\n",
    "import numpy as np\n",
    "import matplotlib.pyplot as plt\n",
    "%matplotlib inline\n",
    "import matplotlib\n",
    "from pycaret.classification  import *\n",
    "\n",
    "# Warning\n",
    "import sys, warnings\n",
    "if not sys.warnoptions: warnings.simplefilter(\"ignore\")\n",
    "\n",
    "# Scailing\n",
    "from sklearn.preprocessing import PowerTransformer\n",
    "\n",
    "# Label Encoding\n",
    "from sklearn.preprocessing import LabelEncoder\n",
    "\n",
    "print('Pandas : %s'%(pd.__version__))\n",
    "print('Numpy : %s'%(np.__version__))\n",
    "print('matplotlib : %s'%(matplotlib.__version__))\n",
    "print('pycaret : %s'%(pycaret.__version__))\n",
    "!python --version"
   ]
  },
  {
   "cell_type": "markdown",
   "id": "fd71663a",
   "metadata": {},
   "source": [
    "사용한 버전  \n",
    "Pandas : 1.3.2  \n",
    "Numpy : 1.19.5  \n",
    "matplotlib : 3.3.4  \n",
    "pycaret : 2.3.3  \n",
    "Python 3.8.8"
   ]
  },
  {
   "cell_type": "markdown",
   "id": "82fb57cb",
   "metadata": {},
   "source": [
    "## data 불러오기"
   ]
  },
  {
   "cell_type": "code",
   "execution_count": 2,
   "id": "0efe807b",
   "metadata": {},
   "outputs": [],
   "source": [
    "# 데이터가 저장된 경로 설정\n",
    "data_path = './daplatformers2021/'\n",
    "\n",
    "# 데이터 불러오기\n",
    "train = pd.read_csv(data_path + 'trainset.csv')\n",
    "test = pd.read_csv(data_path + 'testset_final.csv')\n",
    "submission = pd.read_csv(data_path + 'sample_submission_final.csv')"
   ]
  },
  {
   "cell_type": "code",
   "execution_count": 3,
   "id": "196c02dc",
   "metadata": {},
   "outputs": [],
   "source": [
    "train = train.drop(columns=['매니저최초가입일', '매니저최초서비스일', '매니저주소'])"
   ]
  },
  {
   "cell_type": "markdown",
   "id": "17cb90da",
   "metadata": {},
   "source": [
    "### 전처리"
   ]
  },
  {
   "cell_type": "code",
   "execution_count": 4,
   "id": "e10ea124",
   "metadata": {},
   "outputs": [],
   "source": [
    "data = pd.concat([train,test]).reset_index(drop=True)"
   ]
  },
  {
   "cell_type": "markdown",
   "id": "b990f4f0",
   "metadata": {},
   "source": [
    "- 결측치 채움"
   ]
  },
  {
   "cell_type": "code",
   "execution_count": 5,
   "id": "4201d7db",
   "metadata": {},
   "outputs": [],
   "source": [
    "# 결측치 0으로 채움\n",
    "data['청소교육이수여부'] = data['청소교육이수여부'].fillna(0)\n",
    "data['CS교육이수여부'] = data['CS교육이수여부'].fillna(0)\n",
    "data['부재중여부'] = data['부재중여부'].fillna(0)\n",
    "# 결측치 최빈값으로 채움\n",
    "data['매니저이동방법'] = data['매니저이동방법'].fillna(data['매니저이동방법'].mode()[0])\n",
    "data['매니저사용휴대폰'] = data['매니저사용휴대폰'].fillna(data['매니저사용휴대폰'].mode()[0])\n",
    "data['고객가입일'] = data['고객가입일'].fillna(data['고객가입일'].mode()[0]) #데이터 바뀌고 test에 생긴 에러\n",
    "data['결재형태'] = data['결재형태'].fillna(data['결재형태'].mode()[0]) #데이터 바뀌고 test에 생긴 에러\n",
    "\n",
    "data['접수시각'] = data['접수시각'].fillna(data['접수시각'].mode()[0])\n",
    "data['반려동물'] = data['반려동물'].fillna('없음')\n",
    "# 결측치 판단하여 없음으로 채움\n",
    "data['우선청소'] = data['우선청소'].fillna('없음')\n",
    "\n",
    "### 평수 평균 확인 -> 31.xx -> 30평대로 채움\n",
    "data['평수'] = data['평수'].fillna('30평대')"
   ]
  },
  {
   "cell_type": "code",
   "execution_count": 6,
   "id": "1f710304",
   "metadata": {},
   "outputs": [],
   "source": [
    "#test와 train의 구조를 맞춰줌\n",
    "data['매니저생년월일'] = data['매니저생년월일'].astype('str').apply(lambda x: x[0:4])"
   ]
  },
  {
   "cell_type": "markdown",
   "id": "0882b411",
   "metadata": {},
   "source": [
    "- Make features"
   ]
  },
  {
   "cell_type": "code",
   "execution_count": 7,
   "id": "0051b2c7",
   "metadata": {},
   "outputs": [],
   "source": [
    "# 새로운 피처 만들기\n",
    "data['매니저나이'] = data['매니저생년월일'].apply(lambda x: 2021-int(x))\n",
    "data['매니저나이대'] = data['매니저나이'].apply(lambda x: f'{str(x)[0]}0대')\n",
    "# 현재 월을 기준으로 가입한지 몇개월이 됐는지 계산\n",
    "data['고객가입개월수_str'] = data['고객가입일'].apply(lambda x:str((2021-(int(x[0:4])+1))*12 + 12-int(x[5:7])+1 + 11) )\n",
    "data['고객가입개월수_int'] = data['고객가입일'].apply(lambda x:(2021-(int(x[0:4])+1))*12 + 12-int(x[5:7])+1 + 11)"
   ]
  },
  {
   "cell_type": "code",
   "execution_count": 8,
   "id": "6c5b7398",
   "metadata": {},
   "outputs": [],
   "source": [
    "# 저장해놓기\n",
    "data_SEQ = data.SEQ\n",
    "# 인코딩을 위하여 제거 / 이후 나중에 병합함\n",
    "y_data = data['매칭성공여부']\n",
    "data = data.drop(columns = ['SEQ','매칭성공여부'])"
   ]
  },
  {
   "cell_type": "markdown",
   "id": "1de0f13f",
   "metadata": {},
   "source": [
    "- Encoding & Scailing"
   ]
  },
  {
   "cell_type": "code",
   "execution_count": 9,
   "id": "a8946f87",
   "metadata": {},
   "outputs": [],
   "source": [
    "#범주형변수 수동으로 분리\n",
    "data[['장기서비스여부','기존고객여부','부재중여부','쿠폰사용여부','매니저성별',\n",
    "         'CS교육이수여부','청소교육이수여부','부재중서비스가능여부','추천인여부']\n",
    "     ] = data[['장기서비스여부','기존고객여부','부재중여부','쿠폰사용여부','매니저성별',\n",
    "         'CS교육이수여부','청소교육이수여부','부재중서비스가능여부','추천인여부'\n",
    "     ]].astype('str')\n",
    "\n",
    "# 범주형 변수와 수치형 변수를 분리\n",
    "cat_features = data.select_dtypes(include=['object']).columns.to_list()\n",
    "num_features = data.select_dtypes(exclude='object').columns.to_list() \n",
    "\n",
    "#수치형변수 scailing\n",
    "data[num_features] = PowerTransformer(standardize=True).fit_transform(data[num_features])\n",
    "\n",
    "#라벨인코딩\n",
    "for f in cat_features:\n",
    "    data[f] = LabelEncoder().fit_transform(data[f])"
   ]
  },
  {
   "cell_type": "code",
   "execution_count": 10,
   "id": "fcd96584",
   "metadata": {},
   "outputs": [],
   "source": [
    "# 피처 선정\n",
    "data = data.drop(columns=['현재회차', '기존고객여부', '쿠폰사용여부','매니저성별','접수일',\n",
    "                              '고객가입개월수_str','고객가입개월수_int'])"
   ]
  },
  {
   "cell_type": "code",
   "execution_count": 11,
   "id": "b0f98ff8",
   "metadata": {},
   "outputs": [
    {
     "data": {
      "text/plain": [
       "Index(['접수시각', '장기서비스여부', '최초서비스일', '전체회차', '서비스일자', '서비스시작시간', '서비스종료시간',\n",
       "       '결재형태', '서비스주소', '주거형태', '평수', '고객가입일', '반려동물', '부재중여부', '우선청소',\n",
       "       '매니저생년월일', '매니저사용휴대폰', '매니저이동방법', '근무가능지역', 'CS교육이수여부', '청소교육이수여부',\n",
       "       '부재중서비스가능여부', '추천인여부', '매니저나이', '매니저나이대'],\n",
       "      dtype='object')"
      ]
     },
     "execution_count": 11,
     "metadata": {},
     "output_type": "execute_result"
    }
   ],
   "source": [
    "data.columns"
   ]
  },
  {
   "cell_type": "code",
   "execution_count": 12,
   "id": "99e50952",
   "metadata": {
    "scrolled": true
   },
   "outputs": [
    {
     "data": {
      "text/html": [
       "<div>\n",
       "<style scoped>\n",
       "    .dataframe tbody tr th:only-of-type {\n",
       "        vertical-align: middle;\n",
       "    }\n",
       "\n",
       "    .dataframe tbody tr th {\n",
       "        vertical-align: top;\n",
       "    }\n",
       "\n",
       "    .dataframe thead th {\n",
       "        text-align: right;\n",
       "    }\n",
       "</style>\n",
       "<table border=\"1\" class=\"dataframe\">\n",
       "  <thead>\n",
       "    <tr style=\"text-align: right;\">\n",
       "      <th></th>\n",
       "      <th>SEQ</th>\n",
       "      <th>접수시각</th>\n",
       "      <th>장기서비스여부</th>\n",
       "      <th>최초서비스일</th>\n",
       "      <th>전체회차</th>\n",
       "      <th>서비스일자</th>\n",
       "      <th>서비스시작시간</th>\n",
       "      <th>서비스종료시간</th>\n",
       "      <th>결재형태</th>\n",
       "      <th>서비스주소</th>\n",
       "      <th>주거형태</th>\n",
       "      <th>평수</th>\n",
       "      <th>고객가입일</th>\n",
       "      <th>반려동물</th>\n",
       "      <th>부재중여부</th>\n",
       "      <th>우선청소</th>\n",
       "      <th>매니저생년월일</th>\n",
       "      <th>매니저사용휴대폰</th>\n",
       "      <th>매니저이동방법</th>\n",
       "      <th>근무가능지역</th>\n",
       "      <th>CS교육이수여부</th>\n",
       "      <th>청소교육이수여부</th>\n",
       "      <th>부재중서비스가능여부</th>\n",
       "      <th>추천인여부</th>\n",
       "      <th>매니저나이</th>\n",
       "      <th>매니저나이대</th>\n",
       "      <th>매칭성공여부</th>\n",
       "    </tr>\n",
       "  </thead>\n",
       "  <tbody>\n",
       "    <tr>\n",
       "      <th>0</th>\n",
       "      <td>T06420</td>\n",
       "      <td>379</td>\n",
       "      <td>1</td>\n",
       "      <td>56</td>\n",
       "      <td>-0.650410</td>\n",
       "      <td>84</td>\n",
       "      <td>11</td>\n",
       "      <td>3</td>\n",
       "      <td>1</td>\n",
       "      <td>48</td>\n",
       "      <td>1</td>\n",
       "      <td>2</td>\n",
       "      <td>6</td>\n",
       "      <td>6</td>\n",
       "      <td>0</td>\n",
       "      <td>3</td>\n",
       "      <td>3</td>\n",
       "      <td>2</td>\n",
       "      <td>0</td>\n",
       "      <td>3</td>\n",
       "      <td>0</td>\n",
       "      <td>0</td>\n",
       "      <td>1</td>\n",
       "      <td>0</td>\n",
       "      <td>1.824058</td>\n",
       "      <td>4</td>\n",
       "      <td>0.0</td>\n",
       "    </tr>\n",
       "    <tr>\n",
       "      <th>1</th>\n",
       "      <td>T15430</td>\n",
       "      <td>379</td>\n",
       "      <td>1</td>\n",
       "      <td>56</td>\n",
       "      <td>-0.131658</td>\n",
       "      <td>103</td>\n",
       "      <td>1</td>\n",
       "      <td>6</td>\n",
       "      <td>1</td>\n",
       "      <td>48</td>\n",
       "      <td>1</td>\n",
       "      <td>2</td>\n",
       "      <td>18</td>\n",
       "      <td>6</td>\n",
       "      <td>0</td>\n",
       "      <td>3</td>\n",
       "      <td>23</td>\n",
       "      <td>2</td>\n",
       "      <td>0</td>\n",
       "      <td>6</td>\n",
       "      <td>1</td>\n",
       "      <td>1</td>\n",
       "      <td>1</td>\n",
       "      <td>0</td>\n",
       "      <td>-1.237119</td>\n",
       "      <td>2</td>\n",
       "      <td>0.0</td>\n",
       "    </tr>\n",
       "    <tr>\n",
       "      <th>2</th>\n",
       "      <td>T23790</td>\n",
       "      <td>379</td>\n",
       "      <td>1</td>\n",
       "      <td>342</td>\n",
       "      <td>1.998486</td>\n",
       "      <td>432</td>\n",
       "      <td>11</td>\n",
       "      <td>3</td>\n",
       "      <td>3</td>\n",
       "      <td>48</td>\n",
       "      <td>1</td>\n",
       "      <td>3</td>\n",
       "      <td>202</td>\n",
       "      <td>6</td>\n",
       "      <td>0</td>\n",
       "      <td>3</td>\n",
       "      <td>17</td>\n",
       "      <td>2</td>\n",
       "      <td>0</td>\n",
       "      <td>6</td>\n",
       "      <td>0</td>\n",
       "      <td>0</td>\n",
       "      <td>0</td>\n",
       "      <td>0</td>\n",
       "      <td>-0.458846</td>\n",
       "      <td>3</td>\n",
       "      <td>0.0</td>\n",
       "    </tr>\n",
       "  </tbody>\n",
       "</table>\n",
       "</div>"
      ],
      "text/plain": [
       "      SEQ  접수시각  장기서비스여부  최초서비스일      전체회차  서비스일자  서비스시작시간  서비스종료시간  결재형태  \\\n",
       "0  T06420   379        1      56 -0.650410     84       11        3     1   \n",
       "1  T15430   379        1      56 -0.131658    103        1        6     1   \n",
       "2  T23790   379        1     342  1.998486    432       11        3     3   \n",
       "\n",
       "   서비스주소  주거형태  평수  고객가입일  반려동물  부재중여부  우선청소  매니저생년월일  매니저사용휴대폰  매니저이동방법  \\\n",
       "0     48     1   2      6     6      0     3        3         2        0   \n",
       "1     48     1   2     18     6      0     3       23         2        0   \n",
       "2     48     1   3    202     6      0     3       17         2        0   \n",
       "\n",
       "   근무가능지역  CS교육이수여부  청소교육이수여부  부재중서비스가능여부  추천인여부     매니저나이  매니저나이대  매칭성공여부  \n",
       "0       3         0         0           1      0  1.824058       4     0.0  \n",
       "1       6         1         1           1      0 -1.237119       2     0.0  \n",
       "2       6         0         0           0      0 -0.458846       3     0.0  "
      ]
     },
     "execution_count": 12,
     "metadata": {},
     "output_type": "execute_result"
    }
   ],
   "source": [
    "#위에서 떼어놨던 피처 병합\n",
    "data = pd.concat([data_SEQ, data],axis=1)\n",
    "data = pd.concat([data, y_data],axis=1);data.head(3)"
   ]
  },
  {
   "cell_type": "markdown",
   "id": "509d9301",
   "metadata": {},
   "source": [
    "- Data split"
   ]
  },
  {
   "cell_type": "code",
   "execution_count": 13,
   "id": "06b87cef",
   "metadata": {},
   "outputs": [],
   "source": [
    "#train과 test를 분리\n",
    "train = data.iloc[:23009,:]\n",
    "test = data.iloc[23009:,:]\n",
    "test = test.drop(columns = ['매칭성공여부']).reset_index(drop=True)"
   ]
  },
  {
   "cell_type": "markdown",
   "id": "26f2488a",
   "metadata": {},
   "source": [
    "## Modeling with pycaret"
   ]
  },
  {
   "cell_type": "markdown",
   "id": "e1fa1205",
   "metadata": {},
   "source": [
    "- Model setting"
   ]
  },
  {
   "cell_type": "code",
   "execution_count": 15,
   "id": "cabcf5d1",
   "metadata": {},
   "outputs": [],
   "source": [
    "# SEQ 지워주기\n",
    "train = train.drop(columns=['SEQ'])"
   ]
  },
  {
   "cell_type": "code",
   "execution_count": 16,
   "id": "648808f1",
   "metadata": {},
   "outputs": [
    {
     "data": {
      "text/html": [
       "<style type=\"text/css\">\n",
       "#T_47928_row15_col1 {\n",
       "  background-color: lightgreen;\n",
       "}\n",
       "</style>\n",
       "<table id=\"T_47928_\">\n",
       "  <thead>\n",
       "    <tr>\n",
       "      <th class=\"blank level0\" >&nbsp;</th>\n",
       "      <th class=\"col_heading level0 col0\" >Description</th>\n",
       "      <th class=\"col_heading level0 col1\" >Value</th>\n",
       "    </tr>\n",
       "  </thead>\n",
       "  <tbody>\n",
       "    <tr>\n",
       "      <th id=\"T_47928_level0_row0\" class=\"row_heading level0 row0\" >0</th>\n",
       "      <td id=\"T_47928_row0_col0\" class=\"data row0 col0\" >session_id</td>\n",
       "      <td id=\"T_47928_row0_col1\" class=\"data row0 col1\" >42</td>\n",
       "    </tr>\n",
       "    <tr>\n",
       "      <th id=\"T_47928_level0_row1\" class=\"row_heading level0 row1\" >1</th>\n",
       "      <td id=\"T_47928_row1_col0\" class=\"data row1 col0\" >Target</td>\n",
       "      <td id=\"T_47928_row1_col1\" class=\"data row1 col1\" >매칭성공여부</td>\n",
       "    </tr>\n",
       "    <tr>\n",
       "      <th id=\"T_47928_level0_row2\" class=\"row_heading level0 row2\" >2</th>\n",
       "      <td id=\"T_47928_row2_col0\" class=\"data row2 col0\" >Target Type</td>\n",
       "      <td id=\"T_47928_row2_col1\" class=\"data row2 col1\" >Binary</td>\n",
       "    </tr>\n",
       "    <tr>\n",
       "      <th id=\"T_47928_level0_row3\" class=\"row_heading level0 row3\" >3</th>\n",
       "      <td id=\"T_47928_row3_col0\" class=\"data row3 col0\" >Label Encoded</td>\n",
       "      <td id=\"T_47928_row3_col1\" class=\"data row3 col1\" >0.0: 0, 1.0: 1</td>\n",
       "    </tr>\n",
       "    <tr>\n",
       "      <th id=\"T_47928_level0_row4\" class=\"row_heading level0 row4\" >4</th>\n",
       "      <td id=\"T_47928_row4_col0\" class=\"data row4 col0\" >Original Data</td>\n",
       "      <td id=\"T_47928_row4_col1\" class=\"data row4 col1\" >(23009, 26)</td>\n",
       "    </tr>\n",
       "    <tr>\n",
       "      <th id=\"T_47928_level0_row5\" class=\"row_heading level0 row5\" >5</th>\n",
       "      <td id=\"T_47928_row5_col0\" class=\"data row5 col0\" >Missing Values</td>\n",
       "      <td id=\"T_47928_row5_col1\" class=\"data row5 col1\" >False</td>\n",
       "    </tr>\n",
       "    <tr>\n",
       "      <th id=\"T_47928_level0_row6\" class=\"row_heading level0 row6\" >6</th>\n",
       "      <td id=\"T_47928_row6_col0\" class=\"data row6 col0\" >Numeric Features</td>\n",
       "      <td id=\"T_47928_row6_col1\" class=\"data row6 col1\" >25</td>\n",
       "    </tr>\n",
       "    <tr>\n",
       "      <th id=\"T_47928_level0_row7\" class=\"row_heading level0 row7\" >7</th>\n",
       "      <td id=\"T_47928_row7_col0\" class=\"data row7 col0\" >Categorical Features</td>\n",
       "      <td id=\"T_47928_row7_col1\" class=\"data row7 col1\" >0</td>\n",
       "    </tr>\n",
       "    <tr>\n",
       "      <th id=\"T_47928_level0_row8\" class=\"row_heading level0 row8\" >8</th>\n",
       "      <td id=\"T_47928_row8_col0\" class=\"data row8 col0\" >Transformed Train Set</td>\n",
       "      <td id=\"T_47928_row8_col1\" class=\"data row8 col1\" >(22985, 25)</td>\n",
       "    </tr>\n",
       "    <tr>\n",
       "      <th id=\"T_47928_level0_row9\" class=\"row_heading level0 row9\" >9</th>\n",
       "      <td id=\"T_47928_row9_col0\" class=\"data row9 col0\" >Transformed Test Set</td>\n",
       "      <td id=\"T_47928_row9_col1\" class=\"data row9 col1\" >(24, 25)</td>\n",
       "    </tr>\n",
       "    <tr>\n",
       "      <th id=\"T_47928_level0_row10\" class=\"row_heading level0 row10\" >10</th>\n",
       "      <td id=\"T_47928_row10_col0\" class=\"data row10 col0\" >Shuffle Train-Test</td>\n",
       "      <td id=\"T_47928_row10_col1\" class=\"data row10 col1\" >True</td>\n",
       "    </tr>\n",
       "    <tr>\n",
       "      <th id=\"T_47928_level0_row11\" class=\"row_heading level0 row11\" >11</th>\n",
       "      <td id=\"T_47928_row11_col0\" class=\"data row11 col0\" >Stratify Train-Test</td>\n",
       "      <td id=\"T_47928_row11_col1\" class=\"data row11 col1\" >False</td>\n",
       "    </tr>\n",
       "    <tr>\n",
       "      <th id=\"T_47928_level0_row12\" class=\"row_heading level0 row12\" >12</th>\n",
       "      <td id=\"T_47928_row12_col0\" class=\"data row12 col0\" >Fold Generator</td>\n",
       "      <td id=\"T_47928_row12_col1\" class=\"data row12 col1\" >StratifiedKFold</td>\n",
       "    </tr>\n",
       "    <tr>\n",
       "      <th id=\"T_47928_level0_row13\" class=\"row_heading level0 row13\" >13</th>\n",
       "      <td id=\"T_47928_row13_col0\" class=\"data row13 col0\" >Fold Number</td>\n",
       "      <td id=\"T_47928_row13_col1\" class=\"data row13 col1\" >10</td>\n",
       "    </tr>\n",
       "    <tr>\n",
       "      <th id=\"T_47928_level0_row14\" class=\"row_heading level0 row14\" >14</th>\n",
       "      <td id=\"T_47928_row14_col0\" class=\"data row14 col0\" >CPU Jobs</td>\n",
       "      <td id=\"T_47928_row14_col1\" class=\"data row14 col1\" >-1</td>\n",
       "    </tr>\n",
       "    <tr>\n",
       "      <th id=\"T_47928_level0_row15\" class=\"row_heading level0 row15\" >15</th>\n",
       "      <td id=\"T_47928_row15_col0\" class=\"data row15 col0\" >Use GPU</td>\n",
       "      <td id=\"T_47928_row15_col1\" class=\"data row15 col1\" >True</td>\n",
       "    </tr>\n",
       "    <tr>\n",
       "      <th id=\"T_47928_level0_row16\" class=\"row_heading level0 row16\" >16</th>\n",
       "      <td id=\"T_47928_row16_col0\" class=\"data row16 col0\" >Log Experiment</td>\n",
       "      <td id=\"T_47928_row16_col1\" class=\"data row16 col1\" >False</td>\n",
       "    </tr>\n",
       "    <tr>\n",
       "      <th id=\"T_47928_level0_row17\" class=\"row_heading level0 row17\" >17</th>\n",
       "      <td id=\"T_47928_row17_col0\" class=\"data row17 col0\" >Experiment Name</td>\n",
       "      <td id=\"T_47928_row17_col1\" class=\"data row17 col1\" >clf-default-name</td>\n",
       "    </tr>\n",
       "    <tr>\n",
       "      <th id=\"T_47928_level0_row18\" class=\"row_heading level0 row18\" >18</th>\n",
       "      <td id=\"T_47928_row18_col0\" class=\"data row18 col0\" >USI</td>\n",
       "      <td id=\"T_47928_row18_col1\" class=\"data row18 col1\" >637c</td>\n",
       "    </tr>\n",
       "    <tr>\n",
       "      <th id=\"T_47928_level0_row19\" class=\"row_heading level0 row19\" >19</th>\n",
       "      <td id=\"T_47928_row19_col0\" class=\"data row19 col0\" >Fix Imbalance</td>\n",
       "      <td id=\"T_47928_row19_col1\" class=\"data row19 col1\" >False</td>\n",
       "    </tr>\n",
       "    <tr>\n",
       "      <th id=\"T_47928_level0_row20\" class=\"row_heading level0 row20\" >20</th>\n",
       "      <td id=\"T_47928_row20_col0\" class=\"data row20 col0\" >Fix Imbalance Method</td>\n",
       "      <td id=\"T_47928_row20_col1\" class=\"data row20 col1\" >SMOTE</td>\n",
       "    </tr>\n",
       "  </tbody>\n",
       "</table>\n"
      ],
      "text/plain": [
       "<pandas.io.formats.style.Styler at 0x279adc7c3a0>"
      ]
     },
     "metadata": {},
     "output_type": "display_data"
    }
   ],
   "source": [
    "cl = setup(train, \n",
    "            preprocess = False, # True-> Feature Engineering을 추가로 진행해 Predict가 불가능해진다.\n",
    "            train_size = 0.999,  # 학습할 train의 수\n",
    "            target = '매칭성공여부', # target값\n",
    "            silent = True, # 엔터 누르지 않아도 자동으로 돌아감\n",
    "            use_gpu = True, # GPU가 있으면 사용: 특정 경우에서 CPU보다 느릴 수 있음\n",
    "            session_id = 42,\n",
    "            fold_shuffle = True\n",
    "            )"
   ]
  },
  {
   "cell_type": "code",
   "execution_count": 17,
   "id": "3d8c6ab6",
   "metadata": {},
   "outputs": [
    {
     "data": {
      "text/html": [
       "<style type=\"text/css\">\n",
       "#T_58adc_ th {\n",
       "  text-align: left;\n",
       "}\n",
       "#T_58adc_row0_col0 {\n",
       "  text-align: left;\n",
       "}\n",
       "#T_58adc_row0_col1, #T_58adc_row0_col2, #T_58adc_row0_col3, #T_58adc_row0_col4, #T_58adc_row0_col5, #T_58adc_row0_col6, #T_58adc_row0_col7 {\n",
       "  text-align: left;\n",
       "  background-color: yellow;\n",
       "}\n",
       "#T_58adc_row0_col8 {\n",
       "  text-align: left;\n",
       "  background-color: yellow;\n",
       "  background-color: lightgrey;\n",
       "}\n",
       "</style>\n",
       "<table id=\"T_58adc_\">\n",
       "  <thead>\n",
       "    <tr>\n",
       "      <th class=\"blank level0\" >&nbsp;</th>\n",
       "      <th class=\"col_heading level0 col0\" >Model</th>\n",
       "      <th class=\"col_heading level0 col1\" >Accuracy</th>\n",
       "      <th class=\"col_heading level0 col2\" >AUC</th>\n",
       "      <th class=\"col_heading level0 col3\" >Recall</th>\n",
       "      <th class=\"col_heading level0 col4\" >Prec.</th>\n",
       "      <th class=\"col_heading level0 col5\" >F1</th>\n",
       "      <th class=\"col_heading level0 col6\" >Kappa</th>\n",
       "      <th class=\"col_heading level0 col7\" >MCC</th>\n",
       "      <th class=\"col_heading level0 col8\" >TT (Sec)</th>\n",
       "    </tr>\n",
       "  </thead>\n",
       "  <tbody>\n",
       "    <tr>\n",
       "      <th id=\"T_58adc_level0_row0\" class=\"row_heading level0 row0\" >rf</th>\n",
       "      <td id=\"T_58adc_row0_col0\" class=\"data row0 col0\" >Random Forest Classifier</td>\n",
       "      <td id=\"T_58adc_row0_col1\" class=\"data row0 col1\" >0.9661</td>\n",
       "      <td id=\"T_58adc_row0_col2\" class=\"data row0 col2\" >0.9738</td>\n",
       "      <td id=\"T_58adc_row0_col3\" class=\"data row0 col3\" >0.7006</td>\n",
       "      <td id=\"T_58adc_row0_col4\" class=\"data row0 col4\" >0.9267</td>\n",
       "      <td id=\"T_58adc_row0_col5\" class=\"data row0 col5\" >0.7978</td>\n",
       "      <td id=\"T_58adc_row0_col6\" class=\"data row0 col6\" >0.7797</td>\n",
       "      <td id=\"T_58adc_row0_col7\" class=\"data row0 col7\" >0.7889</td>\n",
       "      <td id=\"T_58adc_row0_col8\" class=\"data row0 col8\" >1.0340</td>\n",
       "    </tr>\n",
       "  </tbody>\n",
       "</table>\n"
      ],
      "text/plain": [
       "<pandas.io.formats.style.Styler at 0x279ad9c9a30>"
      ]
     },
     "metadata": {},
     "output_type": "display_data"
    }
   ],
   "source": [
    "top = compare_models(sort='AUC', fold=5, n_select = 1, include=['rf'])"
   ]
  },
  {
   "cell_type": "markdown",
   "id": "64fb81dc",
   "metadata": {},
   "source": [
    "- Create Model"
   ]
  },
  {
   "cell_type": "code",
   "execution_count": 18,
   "id": "c8f35eef",
   "metadata": {},
   "outputs": [
    {
     "data": {
      "text/html": [
       "<style type=\"text/css\">\n",
       "#T_acd0d_row10_col0, #T_acd0d_row10_col1, #T_acd0d_row10_col2, #T_acd0d_row10_col3, #T_acd0d_row10_col4, #T_acd0d_row10_col5, #T_acd0d_row10_col6 {\n",
       "  background: yellow;\n",
       "}\n",
       "</style>\n",
       "<table id=\"T_acd0d_\">\n",
       "  <thead>\n",
       "    <tr>\n",
       "      <th class=\"blank level0\" >&nbsp;</th>\n",
       "      <th class=\"col_heading level0 col0\" >Accuracy</th>\n",
       "      <th class=\"col_heading level0 col1\" >AUC</th>\n",
       "      <th class=\"col_heading level0 col2\" >Recall</th>\n",
       "      <th class=\"col_heading level0 col3\" >Prec.</th>\n",
       "      <th class=\"col_heading level0 col4\" >F1</th>\n",
       "      <th class=\"col_heading level0 col5\" >Kappa</th>\n",
       "      <th class=\"col_heading level0 col6\" >MCC</th>\n",
       "    </tr>\n",
       "  </thead>\n",
       "  <tbody>\n",
       "    <tr>\n",
       "      <th id=\"T_acd0d_level0_row0\" class=\"row_heading level0 row0\" >0</th>\n",
       "      <td id=\"T_acd0d_row0_col0\" class=\"data row0 col0\" >0.9743</td>\n",
       "      <td id=\"T_acd0d_row0_col1\" class=\"data row0 col1\" >0.9834</td>\n",
       "      <td id=\"T_acd0d_row0_col2\" class=\"data row0 col2\" >0.7909</td>\n",
       "      <td id=\"T_acd0d_row0_col3\" class=\"data row0 col3\" >0.9305</td>\n",
       "      <td id=\"T_acd0d_row0_col4\" class=\"data row0 col4\" >0.8550</td>\n",
       "      <td id=\"T_acd0d_row0_col5\" class=\"data row0 col5\" >0.8411</td>\n",
       "      <td id=\"T_acd0d_row0_col6\" class=\"data row0 col6\" >0.8444</td>\n",
       "    </tr>\n",
       "    <tr>\n",
       "      <th id=\"T_acd0d_level0_row1\" class=\"row_heading level0 row1\" >1</th>\n",
       "      <td id=\"T_acd0d_row1_col0\" class=\"data row1 col0\" >0.9696</td>\n",
       "      <td id=\"T_acd0d_row1_col1\" class=\"data row1 col1\" >0.9763</td>\n",
       "      <td id=\"T_acd0d_row1_col2\" class=\"data row1 col2\" >0.7318</td>\n",
       "      <td id=\"T_acd0d_row1_col3\" class=\"data row1 col3\" >0.9360</td>\n",
       "      <td id=\"T_acd0d_row1_col4\" class=\"data row1 col4\" >0.8214</td>\n",
       "      <td id=\"T_acd0d_row1_col5\" class=\"data row1 col5\" >0.8051</td>\n",
       "      <td id=\"T_acd0d_row1_col6\" class=\"data row1 col6\" >0.8123</td>\n",
       "    </tr>\n",
       "    <tr>\n",
       "      <th id=\"T_acd0d_level0_row2\" class=\"row_heading level0 row2\" >2</th>\n",
       "      <td id=\"T_acd0d_row2_col0\" class=\"data row2 col0\" >0.9696</td>\n",
       "      <td id=\"T_acd0d_row2_col1\" class=\"data row2 col1\" >0.9794</td>\n",
       "      <td id=\"T_acd0d_row2_col2\" class=\"data row2 col2\" >0.7455</td>\n",
       "      <td id=\"T_acd0d_row2_col3\" class=\"data row2 col3\" >0.9213</td>\n",
       "      <td id=\"T_acd0d_row2_col4\" class=\"data row2 col4\" >0.8241</td>\n",
       "      <td id=\"T_acd0d_row2_col5\" class=\"data row2 col5\" >0.8077</td>\n",
       "      <td id=\"T_acd0d_row2_col6\" class=\"data row2 col6\" >0.8131</td>\n",
       "    </tr>\n",
       "    <tr>\n",
       "      <th id=\"T_acd0d_level0_row3\" class=\"row_heading level0 row3\" >3</th>\n",
       "      <td id=\"T_acd0d_row3_col0\" class=\"data row3 col0\" >0.9669</td>\n",
       "      <td id=\"T_acd0d_row3_col1\" class=\"data row3 col1\" >0.9739</td>\n",
       "      <td id=\"T_acd0d_row3_col2\" class=\"data row3 col2\" >0.7000</td>\n",
       "      <td id=\"T_acd0d_row3_col3\" class=\"data row3 col3\" >0.9390</td>\n",
       "      <td id=\"T_acd0d_row3_col4\" class=\"data row3 col4\" >0.8021</td>\n",
       "      <td id=\"T_acd0d_row3_col5\" class=\"data row3 col5\" >0.7845</td>\n",
       "      <td id=\"T_acd0d_row3_col6\" class=\"data row3 col6\" >0.7946</td>\n",
       "    </tr>\n",
       "    <tr>\n",
       "      <th id=\"T_acd0d_level0_row4\" class=\"row_heading level0 row4\" >4</th>\n",
       "      <td id=\"T_acd0d_row4_col0\" class=\"data row4 col0\" >0.9687</td>\n",
       "      <td id=\"T_acd0d_row4_col1\" class=\"data row4 col1\" >0.9730</td>\n",
       "      <td id=\"T_acd0d_row4_col2\" class=\"data row4 col2\" >0.7364</td>\n",
       "      <td id=\"T_acd0d_row4_col3\" class=\"data row4 col3\" >0.9205</td>\n",
       "      <td id=\"T_acd0d_row4_col4\" class=\"data row4 col4\" >0.8182</td>\n",
       "      <td id=\"T_acd0d_row4_col5\" class=\"data row4 col5\" >0.8013</td>\n",
       "      <td id=\"T_acd0d_row4_col6\" class=\"data row4 col6\" >0.8073</td>\n",
       "    </tr>\n",
       "    <tr>\n",
       "      <th id=\"T_acd0d_level0_row5\" class=\"row_heading level0 row5\" >5</th>\n",
       "      <td id=\"T_acd0d_row5_col0\" class=\"data row5 col0\" >0.9713</td>\n",
       "      <td id=\"T_acd0d_row5_col1\" class=\"data row5 col1\" >0.9876</td>\n",
       "      <td id=\"T_acd0d_row5_col2\" class=\"data row5 col2\" >0.7489</td>\n",
       "      <td id=\"T_acd0d_row5_col3\" class=\"data row5 col3\" >0.9371</td>\n",
       "      <td id=\"T_acd0d_row5_col4\" class=\"data row5 col4\" >0.8325</td>\n",
       "      <td id=\"T_acd0d_row5_col5\" class=\"data row5 col5\" >0.8170</td>\n",
       "      <td id=\"T_acd0d_row5_col6\" class=\"data row5 col6\" >0.8231</td>\n",
       "    </tr>\n",
       "    <tr>\n",
       "      <th id=\"T_acd0d_level0_row6\" class=\"row_heading level0 row6\" >6</th>\n",
       "      <td id=\"T_acd0d_row6_col0\" class=\"data row6 col0\" >0.9678</td>\n",
       "      <td id=\"T_acd0d_row6_col1\" class=\"data row6 col1\" >0.9744</td>\n",
       "      <td id=\"T_acd0d_row6_col2\" class=\"data row6 col2\" >0.7123</td>\n",
       "      <td id=\"T_acd0d_row6_col3\" class=\"data row6 col3\" >0.9341</td>\n",
       "      <td id=\"T_acd0d_row6_col4\" class=\"data row6 col4\" >0.8083</td>\n",
       "      <td id=\"T_acd0d_row6_col5\" class=\"data row6 col5\" >0.7911</td>\n",
       "      <td id=\"T_acd0d_row6_col6\" class=\"data row6 col6\" >0.7997</td>\n",
       "    </tr>\n",
       "    <tr>\n",
       "      <th id=\"T_acd0d_level0_row7\" class=\"row_heading level0 row7\" >7</th>\n",
       "      <td id=\"T_acd0d_row7_col0\" class=\"data row7 col0\" >0.9735</td>\n",
       "      <td id=\"T_acd0d_row7_col1\" class=\"data row7 col1\" >0.9765</td>\n",
       "      <td id=\"T_acd0d_row7_col2\" class=\"data row7 col2\" >0.7682</td>\n",
       "      <td id=\"T_acd0d_row7_col3\" class=\"data row7 col3\" >0.9441</td>\n",
       "      <td id=\"T_acd0d_row7_col4\" class=\"data row7 col4\" >0.8471</td>\n",
       "      <td id=\"T_acd0d_row7_col5\" class=\"data row7 col5\" >0.8328</td>\n",
       "      <td id=\"T_acd0d_row7_col6\" class=\"data row7 col6\" >0.8381</td>\n",
       "    </tr>\n",
       "    <tr>\n",
       "      <th id=\"T_acd0d_level0_row8\" class=\"row_heading level0 row8\" >8</th>\n",
       "      <td id=\"T_acd0d_row8_col0\" class=\"data row8 col0\" >0.9630</td>\n",
       "      <td id=\"T_acd0d_row8_col1\" class=\"data row8 col1\" >0.9699</td>\n",
       "      <td id=\"T_acd0d_row8_col2\" class=\"data row8 col2\" >0.6682</td>\n",
       "      <td id=\"T_acd0d_row8_col3\" class=\"data row8 col3\" >0.9245</td>\n",
       "      <td id=\"T_acd0d_row8_col4\" class=\"data row8 col4\" >0.7757</td>\n",
       "      <td id=\"T_acd0d_row8_col5\" class=\"data row8 col5\" >0.7561</td>\n",
       "      <td id=\"T_acd0d_row8_col6\" class=\"data row8 col6\" >0.7680</td>\n",
       "    </tr>\n",
       "    <tr>\n",
       "      <th id=\"T_acd0d_level0_row9\" class=\"row_heading level0 row9\" >9</th>\n",
       "      <td id=\"T_acd0d_row9_col0\" class=\"data row9 col0\" >0.9721</td>\n",
       "      <td id=\"T_acd0d_row9_col1\" class=\"data row9 col1\" >0.9788</td>\n",
       "      <td id=\"T_acd0d_row9_col2\" class=\"data row9 col2\" >0.7545</td>\n",
       "      <td id=\"T_acd0d_row9_col3\" class=\"data row9 col3\" >0.9432</td>\n",
       "      <td id=\"T_acd0d_row9_col4\" class=\"data row9 col4\" >0.8384</td>\n",
       "      <td id=\"T_acd0d_row9_col5\" class=\"data row9 col5\" >0.8234</td>\n",
       "      <td id=\"T_acd0d_row9_col6\" class=\"data row9 col6\" >0.8295</td>\n",
       "    </tr>\n",
       "    <tr>\n",
       "      <th id=\"T_acd0d_level0_row10\" class=\"row_heading level0 row10\" >Mean</th>\n",
       "      <td id=\"T_acd0d_row10_col0\" class=\"data row10 col0\" >0.9697</td>\n",
       "      <td id=\"T_acd0d_row10_col1\" class=\"data row10 col1\" >0.9773</td>\n",
       "      <td id=\"T_acd0d_row10_col2\" class=\"data row10 col2\" >0.7357</td>\n",
       "      <td id=\"T_acd0d_row10_col3\" class=\"data row10 col3\" >0.9330</td>\n",
       "      <td id=\"T_acd0d_row10_col4\" class=\"data row10 col4\" >0.8223</td>\n",
       "      <td id=\"T_acd0d_row10_col5\" class=\"data row10 col5\" >0.8060</td>\n",
       "      <td id=\"T_acd0d_row10_col6\" class=\"data row10 col6\" >0.8130</td>\n",
       "    </tr>\n",
       "    <tr>\n",
       "      <th id=\"T_acd0d_level0_row11\" class=\"row_heading level0 row11\" >SD</th>\n",
       "      <td id=\"T_acd0d_row11_col0\" class=\"data row11 col0\" >0.0032</td>\n",
       "      <td id=\"T_acd0d_row11_col1\" class=\"data row11 col1\" >0.0050</td>\n",
       "      <td id=\"T_acd0d_row11_col2\" class=\"data row11 col2\" >0.0333</td>\n",
       "      <td id=\"T_acd0d_row11_col3\" class=\"data row11 col3\" >0.0081</td>\n",
       "      <td id=\"T_acd0d_row11_col4\" class=\"data row11 col4\" >0.0220</td>\n",
       "      <td id=\"T_acd0d_row11_col5\" class=\"data row11 col5\" >0.0236</td>\n",
       "      <td id=\"T_acd0d_row11_col6\" class=\"data row11 col6\" >0.0214</td>\n",
       "    </tr>\n",
       "  </tbody>\n",
       "</table>\n"
      ],
      "text/plain": [
       "<pandas.io.formats.style.Styler at 0x2793f1fcd00>"
      ]
     },
     "metadata": {},
     "output_type": "display_data"
    }
   ],
   "source": [
    "#rf -> 튜닝하면 성능 떨어짐\n",
    "rf = create_model('rf')"
   ]
  },
  {
   "cell_type": "markdown",
   "id": "b1a3017f",
   "metadata": {},
   "source": [
    "- Fit & predict"
   ]
  },
  {
   "cell_type": "code",
   "execution_count": 19,
   "id": "15746d3e",
   "metadata": {},
   "outputs": [],
   "source": [
    "model = rf\n",
    "pred_holdout = predict_model(model, test)"
   ]
  },
  {
   "cell_type": "code",
   "execution_count": 20,
   "id": "dab301d5",
   "metadata": {},
   "outputs": [],
   "source": [
    "#pycaret에서는 score이 label을 맞출 확률이기때문에 output을 제출 양식에 맞게 바꿔줌\n",
    "pred = pd.Series([pred_holdout['Score'][i] if pred_holdout['Label'][i] =='1.0' else (1-pred_holdout['Score'][i]) for i in range(len(pred_holdout['Score']))]\n",
    ")"
   ]
  },
  {
   "cell_type": "code",
   "execution_count": 21,
   "id": "c55f2479",
   "metadata": {},
   "outputs": [],
   "source": [
    "submission['pred'] = pred"
   ]
  },
  {
   "cell_type": "markdown",
   "id": "c52bb0f4",
   "metadata": {},
   "source": [
    "### Make submission "
   ]
  },
  {
   "cell_type": "code",
   "execution_count": 22,
   "id": "fb4a7a09",
   "metadata": {},
   "outputs": [
    {
     "name": "stdout",
     "output_type": "stream",
     "text": [
      "'rf_0.87398.csv' is ready to submit.\n"
     ]
    }
   ],
   "source": [
    "fname = 'rf_0.87398.csv'\n",
    "submission.to_csv(fname, index=False)\n",
    "print(\"'{}' is ready to submit.\" .format(fname))"
   ]
  },
  {
   "cell_type": "markdown",
   "id": "e2167eac",
   "metadata": {},
   "source": [
    "# END"
   ]
  }
 ],
 "metadata": {
  "kernelspec": {
   "display_name": "ML",
   "language": "python",
   "name": "ml"
  },
  "language_info": {
   "codemirror_mode": {
    "name": "ipython",
    "version": 3
   },
   "file_extension": ".py",
   "mimetype": "text/x-python",
   "name": "python",
   "nbconvert_exporter": "python",
   "pygments_lexer": "ipython3",
   "version": "3.8.11"
  }
 },
 "nbformat": 4,
 "nbformat_minor": 5
}
