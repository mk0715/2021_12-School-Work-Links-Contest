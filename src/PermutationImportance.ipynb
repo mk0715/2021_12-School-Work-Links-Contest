{
 "cells": [
  {
   "cell_type": "markdown",
   "id": "0c08e617",
   "metadata": {},
   "source": [
    "## 모듈 import"
   ]
  },
  {
   "cell_type": "code",
   "execution_count": 1,
   "id": "1134268d",
   "metadata": {},
   "outputs": [],
   "source": [
    "#모듈 import\n",
    "import pandas as pd\n",
    "import numpy as np\n",
    "import matplotlib.pyplot as plt\n",
    "%matplotlib inline\n",
    "from pycaret.classification  import *\n",
    "\n",
    "# feature selection\n",
    "import sys, warnings\n",
    "if not sys.warnoptions: warnings.simplefilter(\"ignore\")\n",
    "\n",
    "# permutation importance\n",
    "from sklearn.model_selection import train_test_split\n",
    "from sklearn.ensemble import RandomForestClassifier\n",
    "import eli5 \n",
    "from eli5.sklearn import PermutationImportance\n",
    "\n",
    "#Scailing\n",
    "from sklearn.preprocessing import PowerTransformer\n",
    "\n",
    "#Label Encoding\n",
    "from sklearn.preprocessing import LabelEncoder\n",
    "\n",
    "# 상관관계 시각화\n",
    "#matplotlib 한글깨짐 지원\n",
    "import platform\n",
    "from matplotlib import font_manager, rc\n",
    "path = \"c:/Windows/Fonts/malgun.ttf\"\n",
    "if platform.system() == 'Darwin':\n",
    "    rc('font', family='AppleGothic')\n",
    "elif platform.system() == 'Windows':\n",
    "    font_name = font_manager.FontProperties(fname=path).get_name()\n",
    "    rc('font', family=font_name)\n",
    "else:\n",
    "    print('Unknown system...')\n",
    "rc('axes', unicode_minus=False)  \n",
    "import seaborn as sns #EDA"
   ]
  },
  {
   "cell_type": "code",
   "execution_count": 2,
   "id": "1968852d",
   "metadata": {},
   "outputs": [],
   "source": [
    "#삡운드\n",
    "import winsound as sd\n",
    "# 삡싸운드\n",
    "def beepsound():\n",
    "    fr = 2000   # range : 37 ~ 32767\n",
    "    du = 1000 # 1000 ms ==1second\n",
    "    sd.Beep(fr, du) # winsound.Beep(frequency, duration)"
   ]
  },
  {
   "cell_type": "markdown",
   "id": "82fb57cb",
   "metadata": {},
   "source": [
    "## data 불러오기"
   ]
  },
  {
   "cell_type": "code",
   "execution_count": 3,
   "id": "0efe807b",
   "metadata": {},
   "outputs": [],
   "source": [
    "# 데이터가 저장된 경로 설정\n",
    "data_path = '../daplatformers2021/'\n",
    "\n",
    "# 데이터 불러오기\n",
    "train = pd.read_csv(data_path + 'trainset.csv')\n",
    "test = pd.read_csv(data_path + 'testset_final.csv')\n",
    "submission = pd.read_csv(data_path + 'sample_submission_final.csv')"
   ]
  },
  {
   "cell_type": "code",
   "execution_count": 4,
   "id": "196c02dc",
   "metadata": {},
   "outputs": [],
   "source": [
    "train = train.drop(columns=['매니저최초가입일', '매니저최초서비스일', '매니저주소'])"
   ]
  },
  {
   "cell_type": "markdown",
   "id": "17cb90da",
   "metadata": {},
   "source": [
    "### 전처리"
   ]
  },
  {
   "cell_type": "code",
   "execution_count": 1,
   "id": "e10ea124",
   "metadata": {},
   "outputs": [],
   "source": [
    "data = pd.concat([train,test]).reset_index(drop=True)"
   ]
  },
  {
   "cell_type": "markdown",
   "id": "b990f4f0",
   "metadata": {},
   "source": [
    "- 결측치 채움"
   ]
  },
  {
   "cell_type": "code",
   "execution_count": 6,
   "id": "4201d7db",
   "metadata": {},
   "outputs": [],
   "source": [
    "### 결측치 제거\n",
    "\n",
    "# 결측치 0으로 채움\n",
    "data['청소교육이수여부'] = data['청소교육이수여부'].fillna(0)\n",
    "data['CS교육이수여부'] = data['CS교육이수여부'].fillna(0)\n",
    "data['부재중여부'] = data['부재중여부'].fillna(0)\n",
    "# 결측치 최빈값으로 채움\n",
    "data['매니저이동방법'] = data['매니저이동방법'].fillna(data['매니저이동방법'].mode()[0])\n",
    "data['매니저사용휴대폰'] = data['매니저사용휴대폰'].fillna(data['매니저사용휴대폰'].mode()[0])\n",
    "data['고객가입일'] = data['고객가입일'].fillna(data['고객가입일'].mode()[0]) #데이터 바뀌고 test에 생긴 에러\n",
    "data['결재형태'] = data['결재형태'].fillna(data['결재형태'].mode()[0]) #데이터 바뀌고 test에 생긴 에러\n",
    "\n",
    "data['접수시각'] = data['접수시각'].fillna(data['접수시각'].mode()[0])\n",
    "data['반려동물'] = data['반려동물'].fillna('없음')\n",
    "# 결측치 판단하여 없음으로 채움\n",
    "data['우선청소'] = data['우선청소'].fillna('없음')\n",
    "\n",
    "### 평수 평균 확인 -> 31.xx -> 30평대로 채움\n",
    "# (10*len(data.query('평수 == \"10평대\"')) + 20*len(data.query('평수 == \"20평대\"')) + \n",
    "#  30*len(data.query('평수 == \"30평대\"')) + 40*len(data.query('평수 == \"40평대이상\"')))/ \\\n",
    "# (len(data.query('평수 == \"10평대\"'))+len(data.query('평수 == \"20평대\"'))+\n",
    "#  len(data.query('평수 == \"30평대\"'))+len(data.query('평수 == \"40평대이상\"')))\n",
    "data['평수'] = data['평수'].fillna('30평대')"
   ]
  },
  {
   "cell_type": "code",
   "execution_count": 7,
   "id": "1f710304",
   "metadata": {},
   "outputs": [],
   "source": [
    "#test와 train의 구조를 맞춰줌\n",
    "data['매니저생년월일'] = data['매니저생년월일'].astype('str').apply(lambda x: x[0:4])"
   ]
  },
  {
   "cell_type": "code",
   "execution_count": 8,
   "id": "baadc17c",
   "metadata": {},
   "outputs": [],
   "source": [
    "# 새로운 피처 만들기\n",
    "data['매니저나이'] = data['매니저생년월일'].apply(lambda x: 2021-int(x))\n",
    "data['매니저나이대'] = data['매니저나이'].apply(lambda x: f'{str(x)[0]}0대')\n",
    "# 현재 월을 기준으로 가입한지 몇개월이 됐는지 계산\n",
    "data['고객가입개월수_str'] = data['고객가입일'].apply(lambda x:str((2021-(int(x[0:4])+1))*12 + 12-int(x[5:7])+1 + 11) )\n",
    "data['고객가입개월수_int'] = data['고객가입일'].apply(lambda x:(2021-(int(x[0:4])+1))*12 + 12-int(x[5:7])+1 + 11)\n",
    "data['나이*개월수'] = data['매니저나이']*data['고객가입개월수_int']\n",
    "\n",
    "#전체회차 / 고객가입개월수_int\n",
    "data['한달평균사용횟수'] = data['전체회차'] / data['고객가입개월수_int']\n",
    "\n",
    "# 서비스시간 피처 생성\n",
    "data['서비스시간'] =  (pd.to_datetime(data['서비스시작시간'], format=\"%H:%M:%S\") -\\\n",
    "                        pd.to_datetime(data['서비스종료시간'], format=\"%H:%M:%S\")).astype('str')\n",
    "\n",
    "def mon_cnt(x):\n",
    "    x = int(x)\n",
    "    if x < 12: return '1년미만'\n",
    "    elif 12 <= x < 24: return '1년차'\n",
    "    elif 24 <= x < 36: return '2년차'\n",
    "    \n",
    "data['고객가입년차'] = data['고객가입개월수_int'].apply(mon_cnt)\n",
    "# 교육\n",
    "data['교육'] = data['청소교육이수여부'] + data['CS교육이수여부']"
   ]
  },
  {
   "cell_type": "code",
   "execution_count": 14,
   "id": "6c5b7398",
   "metadata": {},
   "outputs": [],
   "source": [
    "# 저장해놓기\n",
    "data_SEQ = data.SEQ\n",
    "# 인코딩을 위하여 제거 / 이후 나중에 병합함\n",
    "y_data = data['매칭성공여부']\n",
    "data = data.drop(columns = ['SEQ','매칭성공여부'])"
   ]
  },
  {
   "cell_type": "code",
   "execution_count": 15,
   "id": "73a49d20",
   "metadata": {},
   "outputs": [],
   "source": [
    "#라벨인코딩\n",
    "\n",
    "#범주형변수 수동으로 분리\n",
    "data[['장기서비스여부','기존고객여부','부재중여부','쿠폰사용여부','매니저성별',\n",
    "         'CS교육이수여부','청소교육이수여부','부재중서비스가능여부','추천인여부']\n",
    "     ] = data[['장기서비스여부','기존고객여부','부재중여부','쿠폰사용여부','매니저성별',\n",
    "         'CS교육이수여부','청소교육이수여부','부재중서비스가능여부','추천인여부'\n",
    "     ]].astype('str')\n",
    "\n",
    "# 범주형 변수와 수치형 변수를 분리\n",
    "cat_features = data.select_dtypes(include=['object']).columns.to_list()\n",
    "num_features = data.select_dtypes(exclude='object').columns.to_list() \n",
    "\n",
    "\n",
    "#라벨인코딩\n",
    "#위의 범주형 변수들을 라벨인코딩\n",
    "for f in cat_features:\n",
    "    data[f] = LabelEncoder().fit_transform(data[f])\n",
    "    \n",
    "#수치형변수 scailing\n",
    "data[num_features] = PowerTransformer(standardize=True).fit_transform(data[num_features])"
   ]
  },
  {
   "cell_type": "code",
   "execution_count": 2,
   "id": "a8946f87",
   "metadata": {},
   "outputs": [],
   "source": [
    "#위에서 떼어놨던 피처 병합\n",
    "data = pd.concat([data_SEQ, data],axis=1)\n",
    "data = pd.concat([data, y_data],axis=1)"
   ]
  },
  {
   "cell_type": "markdown",
   "id": "40f1ecf6",
   "metadata": {},
   "source": [
    "- 상관관계를 시각화하여 확인"
   ]
  },
  {
   "cell_type": "code",
   "execution_count": 18,
   "id": "eb9a89bb",
   "metadata": {},
   "outputs": [],
   "source": [
    "features = data.drop(columns=['SEQ', '매칭성공여부'])"
   ]
  },
  {
   "cell_type": "code",
   "execution_count": 1,
   "id": "55eeaf97",
   "metadata": {},
   "outputs": [],
   "source": [
    "# 아래의 코드를 통해 그래프를 그려 확인해 볼 수 있음 -> 보안상 실행X\n",
    "plt.figure(figsize=(15,15))\n",
    "sns.heatmap(data = data.corr(), annot=True, \n",
    "fmt = '.2f', linewidths=.5, cmap='Blues')"
   ]
  },
  {
   "cell_type": "code",
   "execution_count": 20,
   "id": "790a0084",
   "metadata": {},
   "outputs": [],
   "source": [
    "# 상관관계 행렬\n",
    "correlationMatrix = data.corr()"
   ]
  },
  {
   "cell_type": "code",
   "execution_count": 21,
   "id": "b9df4e17",
   "metadata": {
    "scrolled": true
   },
   "outputs": [
    {
     "name": "stdout",
     "output_type": "stream",
     "text": [
      "[['접수일', '최초서비스일'], ['접수일', '서비스일자'], ['접수일', '고객가입일'], ['장기서비스여부', '전체회차'], ['최초서비스일', '서비스일자'], ['최초서비스일', '고객가입일'], ['서비스일자', '고객가입일'], ['CS교육이수여부', '청소교육이수여부'], ['매니저나이', '매니저나이대']]\n"
     ]
    }
   ],
   "source": [
    "# cutoff 기준점보다 높은 상관관계를 파악하는 함수\n",
    "def high_correlated(x, cutoff):\n",
    "    index_list = []\n",
    "    for i in range(0, len(x)):\n",
    "        for j in range(i+1, len(x)):\n",
    "            if x.iloc[i][j] >= cutoff:\n",
    "                index_list.append([x.columns[i], x.columns[j]])\n",
    "    print(index_list)\n",
    "\n",
    "# 함수 실행\n",
    "high_correlated(correlationMatrix, 0.7)"
   ]
  },
  {
   "cell_type": "code",
   "execution_count": 22,
   "id": "06b87cef",
   "metadata": {},
   "outputs": [],
   "source": [
    "#train과 test를 분리\n",
    "train = data.iloc[:23009,:]\n",
    "test = data.iloc[23009:,:]\n",
    "test = test.drop(columns = ['매칭성공여부']).reset_index(drop=True)"
   ]
  },
  {
   "cell_type": "markdown",
   "id": "e59fc121",
   "metadata": {},
   "source": [
    "### PermutationImportance"
   ]
  },
  {
   "cell_type": "code",
   "execution_count": 23,
   "id": "3db83a3b",
   "metadata": {},
   "outputs": [],
   "source": [
    "X_train = train.iloc[:,1:-1]\n",
    "Y_train = train.iloc[:,-1]"
   ]
  },
  {
   "cell_type": "code",
   "execution_count": 2,
   "id": "3a28c6fe",
   "metadata": {
    "scrolled": false
   },
   "outputs": [],
   "source": [
    "## 아래의 코드를 통해 중요도가 높은 피처를 확인할 수 있음 -> 보안상 실행X\n",
    "# 검증을 위해 train_test_split\n",
    "x_train, x_val, y_train, y_val = train_test_split(X_train, Y_train, test_size=0.2, shuffle=True, stratify=Y_train, random_state=42)\n",
    "# 검증할 모델설정\n",
    "my_model = RandomForestClassifier(n_estimators=100,\n",
    "                                  random_state=0).fit(x_train, y_train)\n",
    "# permutation importance 화긴\n",
    "perm = PermutationImportance(my_model, scoring = \"roc_auc\", random_state = 42).fit(x_val, y_val) \n",
    "eli5.show_weights(perm,top=40, feature_names = x_val.columns.tolist())"
   ]
  },
  {
   "cell_type": "markdown",
   "id": "e2167eac",
   "metadata": {},
   "source": [
    "# END"
   ]
  }
 ],
 "metadata": {
  "kernelspec": {
   "display_name": "ML",
   "language": "python",
   "name": "ml"
  },
  "language_info": {
   "codemirror_mode": {
    "name": "ipython",
    "version": 3
   },
   "file_extension": ".py",
   "mimetype": "text/x-python",
   "name": "python",
   "nbconvert_exporter": "python",
   "pygments_lexer": "ipython3",
   "version": "3.8.11"
  }
 },
 "nbformat": 4,
 "nbformat_minor": 5
}
