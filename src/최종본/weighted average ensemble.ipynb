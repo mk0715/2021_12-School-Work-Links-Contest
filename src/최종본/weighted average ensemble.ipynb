{
 "cells": [
  {
   "cell_type": "markdown",
   "id": "54359a3e",
   "metadata": {},
   "source": [
    "### 모듈 import"
   ]
  },
  {
   "cell_type": "code",
   "execution_count": 1,
   "id": "cd7fed84",
   "metadata": {},
   "outputs": [
    {
     "name": "stdout",
     "output_type": "stream",
     "text": [
      "Pandas : 1.3.2\n",
      "Numpy : 1.19.5\n",
      "matplotlib : 3.3.4\n",
      "Python 3.8.8\n"
     ]
    }
   ],
   "source": [
    "#모듈 import\n",
    "import pandas as pd\n",
    "import numpy as np\n",
    "import matplotlib.pyplot as plt\n",
    "%matplotlib inline\n",
    "import matplotlib\n",
    "\n",
    "print('Pandas : %s'%(pd.__version__))\n",
    "print('Numpy : %s'%(np.__version__))\n",
    "print('matplotlib : %s'%(matplotlib.__version__))\n",
    "!python --version"
   ]
  },
  {
   "cell_type": "markdown",
   "id": "0f0d7d78",
   "metadata": {},
   "source": [
    "사용한 버전  \n",
    "Pandas : 1.3.2  \n",
    "Numpy : 1.19.5  \n",
    "matplotlib : 3.3.4  \n",
    "pycaret : 2.3.3  \n",
    "Python 3.8.8"
   ]
  },
  {
   "cell_type": "markdown",
   "id": "fc8689c2",
   "metadata": {},
   "source": [
    "### 데이터 불러오기"
   ]
  },
  {
   "cell_type": "code",
   "execution_count": 3,
   "id": "a6722c1f",
   "metadata": {},
   "outputs": [],
   "source": [
    "data_path = './final_csv/'\n",
    "\n",
    "cat = pd.read_csv(data_path + 'cat_0.83196.csv')\n",
    "et = pd.read_csv(data_path + 'et_0.87917.csv')\n",
    "rf = pd.read_csv(data_path + 'rf_0.87398.csv')\n",
    "knn = pd.read_csv(data_path + 'knn_0.84066.csv')"
   ]
  },
  {
   "cell_type": "code",
   "execution_count": 4,
   "id": "b304559b",
   "metadata": {},
   "outputs": [
    {
     "data": {
      "text/html": [
       "<div>\n",
       "<style scoped>\n",
       "    .dataframe tbody tr th:only-of-type {\n",
       "        vertical-align: middle;\n",
       "    }\n",
       "\n",
       "    .dataframe tbody tr th {\n",
       "        vertical-align: top;\n",
       "    }\n",
       "\n",
       "    .dataframe thead th {\n",
       "        text-align: right;\n",
       "    }\n",
       "</style>\n",
       "<table border=\"1\" class=\"dataframe\">\n",
       "  <thead>\n",
       "    <tr style=\"text-align: right;\">\n",
       "      <th></th>\n",
       "      <th>SEQ</th>\n",
       "      <th>pred</th>\n",
       "      <th>SEQ</th>\n",
       "      <th>pred</th>\n",
       "      <th>SEQ</th>\n",
       "      <th>pred</th>\n",
       "      <th>SEQ</th>\n",
       "      <th>pred</th>\n",
       "    </tr>\n",
       "  </thead>\n",
       "  <tbody>\n",
       "    <tr>\n",
       "      <th>0</th>\n",
       "      <td>T54370</td>\n",
       "      <td>0.0024</td>\n",
       "      <td>T54370</td>\n",
       "      <td>0.00</td>\n",
       "      <td>T54370</td>\n",
       "      <td>0.00</td>\n",
       "      <td>T54370</td>\n",
       "      <td>0.0000</td>\n",
       "    </tr>\n",
       "    <tr>\n",
       "      <th>1</th>\n",
       "      <td>T47892</td>\n",
       "      <td>0.0248</td>\n",
       "      <td>T47892</td>\n",
       "      <td>0.00</td>\n",
       "      <td>T47892</td>\n",
       "      <td>0.00</td>\n",
       "      <td>T47892</td>\n",
       "      <td>0.0000</td>\n",
       "    </tr>\n",
       "    <tr>\n",
       "      <th>2</th>\n",
       "      <td>T56637</td>\n",
       "      <td>0.6618</td>\n",
       "      <td>T56637</td>\n",
       "      <td>1.00</td>\n",
       "      <td>T56637</td>\n",
       "      <td>0.68</td>\n",
       "      <td>T56637</td>\n",
       "      <td>1.0000</td>\n",
       "    </tr>\n",
       "    <tr>\n",
       "      <th>3</th>\n",
       "      <td>T45487</td>\n",
       "      <td>0.0248</td>\n",
       "      <td>T45487</td>\n",
       "      <td>0.00</td>\n",
       "      <td>T45487</td>\n",
       "      <td>0.00</td>\n",
       "      <td>T45487</td>\n",
       "      <td>0.0000</td>\n",
       "    </tr>\n",
       "    <tr>\n",
       "      <th>4</th>\n",
       "      <td>T41995</td>\n",
       "      <td>0.0583</td>\n",
       "      <td>T41995</td>\n",
       "      <td>0.00</td>\n",
       "      <td>T41995</td>\n",
       "      <td>0.01</td>\n",
       "      <td>T41995</td>\n",
       "      <td>0.0000</td>\n",
       "    </tr>\n",
       "    <tr>\n",
       "      <th>...</th>\n",
       "      <td>...</td>\n",
       "      <td>...</td>\n",
       "      <td>...</td>\n",
       "      <td>...</td>\n",
       "      <td>...</td>\n",
       "      <td>...</td>\n",
       "      <td>...</td>\n",
       "      <td>...</td>\n",
       "    </tr>\n",
       "    <tr>\n",
       "      <th>4239</th>\n",
       "      <td>T31589</td>\n",
       "      <td>0.0123</td>\n",
       "      <td>T31589</td>\n",
       "      <td>0.00</td>\n",
       "      <td>T31589</td>\n",
       "      <td>0.00</td>\n",
       "      <td>T31589</td>\n",
       "      <td>0.0000</td>\n",
       "    </tr>\n",
       "    <tr>\n",
       "      <th>4240</th>\n",
       "      <td>T36236</td>\n",
       "      <td>0.0252</td>\n",
       "      <td>T36236</td>\n",
       "      <td>0.02</td>\n",
       "      <td>T36236</td>\n",
       "      <td>0.03</td>\n",
       "      <td>T36236</td>\n",
       "      <td>0.0000</td>\n",
       "    </tr>\n",
       "    <tr>\n",
       "      <th>4241</th>\n",
       "      <td>T34729</td>\n",
       "      <td>0.0233</td>\n",
       "      <td>T34729</td>\n",
       "      <td>0.00</td>\n",
       "      <td>T34729</td>\n",
       "      <td>0.00</td>\n",
       "      <td>T34729</td>\n",
       "      <td>0.0000</td>\n",
       "    </tr>\n",
       "    <tr>\n",
       "      <th>4242</th>\n",
       "      <td>T53830</td>\n",
       "      <td>0.0206</td>\n",
       "      <td>T53830</td>\n",
       "      <td>0.00</td>\n",
       "      <td>T53830</td>\n",
       "      <td>0.00</td>\n",
       "      <td>T53830</td>\n",
       "      <td>0.0000</td>\n",
       "    </tr>\n",
       "    <tr>\n",
       "      <th>4243</th>\n",
       "      <td>T30681</td>\n",
       "      <td>0.0921</td>\n",
       "      <td>T30681</td>\n",
       "      <td>0.41</td>\n",
       "      <td>T30681</td>\n",
       "      <td>0.24</td>\n",
       "      <td>T30681</td>\n",
       "      <td>0.0424</td>\n",
       "    </tr>\n",
       "  </tbody>\n",
       "</table>\n",
       "<p>4244 rows × 8 columns</p>\n",
       "</div>"
      ],
      "text/plain": [
       "         SEQ    pred     SEQ  pred     SEQ  pred     SEQ    pred\n",
       "0     T54370  0.0024  T54370  0.00  T54370  0.00  T54370  0.0000\n",
       "1     T47892  0.0248  T47892  0.00  T47892  0.00  T47892  0.0000\n",
       "2     T56637  0.6618  T56637  1.00  T56637  0.68  T56637  1.0000\n",
       "3     T45487  0.0248  T45487  0.00  T45487  0.00  T45487  0.0000\n",
       "4     T41995  0.0583  T41995  0.00  T41995  0.01  T41995  0.0000\n",
       "...      ...     ...     ...   ...     ...   ...     ...     ...\n",
       "4239  T31589  0.0123  T31589  0.00  T31589  0.00  T31589  0.0000\n",
       "4240  T36236  0.0252  T36236  0.02  T36236  0.03  T36236  0.0000\n",
       "4241  T34729  0.0233  T34729  0.00  T34729  0.00  T34729  0.0000\n",
       "4242  T53830  0.0206  T53830  0.00  T53830  0.00  T53830  0.0000\n",
       "4243  T30681  0.0921  T30681  0.41  T30681  0.24  T30681  0.0424\n",
       "\n",
       "[4244 rows x 8 columns]"
      ]
     },
     "metadata": {},
     "output_type": "display_data"
    }
   ],
   "source": [
    "# 보기 편하게 합쳐서 봄\n",
    "display(pd.concat([cat,et,rf,knn], axis=1))"
   ]
  },
  {
   "cell_type": "markdown",
   "id": "b3decfc9",
   "metadata": {},
   "source": [
    "### Ensemble"
   ]
  },
  {
   "cell_type": "code",
   "execution_count": 5,
   "id": "b4dfbb5e",
   "metadata": {},
   "outputs": [],
   "source": [
    "# Public기준으로 성능이 가장 좋았던 et에 가장 많은 가중치를 주어 앙상블함\n",
    "ensemble = (cat['pred'] * 0.1) + (et['pred'] * 0.7) + (rf['pred'] * 0.1) + (knn['pred'] * 0.1)"
   ]
  },
  {
   "cell_type": "code",
   "execution_count": 6,
   "id": "71403a08",
   "metadata": {},
   "outputs": [],
   "source": [
    "# 제출 양식에 맞게 지정해줌\n",
    "make_csv = pd.DataFrame(rf['SEQ'])\n",
    "make_csv['pred'] = ensemble"
   ]
  },
  {
   "cell_type": "markdown",
   "id": "d18e8eb3",
   "metadata": {},
   "source": [
    "### Make submission"
   ]
  },
  {
   "cell_type": "code",
   "execution_count": null,
   "id": "aab3e81a",
   "metadata": {},
   "outputs": [
    {
     "name": "stdout",
     "output_type": "stream",
     "text": [
      "'final.csv' is ready to submit.\n"
     ]
    }
   ],
   "source": [
    "t = pd.Timestamp.now()\n",
    "fname = 'final.csv'\n",
    "make_csv.to_csv(fname, index=False)\n",
    "print(\"'{}' is ready to submit.\" .format(fname))"
   ]
  },
  {
   "cell_type": "markdown",
   "id": "0e01e4ef",
   "metadata": {},
   "source": [
    "### END"
   ]
  }
 ],
 "metadata": {
  "kernelspec": {
   "display_name": "ML",
   "language": "python",
   "name": "ml"
  },
  "language_info": {
   "codemirror_mode": {
    "name": "ipython",
    "version": 3
   },
   "file_extension": ".py",
   "mimetype": "text/x-python",
   "name": "python",
   "nbconvert_exporter": "python",
   "pygments_lexer": "ipython3",
   "version": "3.8.11"
  }
 },
 "nbformat": 4,
 "nbformat_minor": 5
}
