{
 "cells": [
  {
   "cell_type": "markdown",
   "id": "0c08e617",
   "metadata": {},
   "source": [
    "## 모듈 import"
   ]
  },
  {
   "cell_type": "code",
   "execution_count": 1,
   "id": "1134268d",
   "metadata": {},
   "outputs": [],
   "source": [
    "#모듈 import\n",
    "import pandas as pd\n",
    "import numpy as np\n",
    "import matplotlib.pyplot as plt\n",
    "%matplotlib inline\n",
    "from pycaret.classification  import *\n",
    "from sklearn.tree import DecisionTreeClassifier\n",
    "\n",
    "# feature selection\n",
    "import sys, warnings\n",
    "if not sys.warnoptions: warnings.simplefilter(\"ignore\")\n",
    "from sklearn.feature_selection import SelectPercentile\n",
    "from sklearn.model_selection import cross_val_score\n",
    "from tqdm import tqdm\n",
    "\n",
    "#Scailing\n",
    "from sklearn.preprocessing import PowerTransformer\n",
    "\n",
    "#Label Encoding\n",
    "from sklearn.preprocessing import LabelEncoder\n",
    "\n",
    "# oversampling\n",
    "import random\n",
    "# w2v\n",
    "from gensim.models import word2vec"
   ]
  },
  {
   "cell_type": "code",
   "execution_count": 2,
   "id": "1968852d",
   "metadata": {},
   "outputs": [],
   "source": [
    "#삡운드\n",
    "import winsound as sd\n",
    "# 삡싸운드\n",
    "def beepsound():\n",
    "    fr = 2000   # range : 37 ~ 32767\n",
    "    du = 1000 # 1000 ms ==1second\n",
    "    sd.Beep(fr, du) # winsound.Beep(frequency, duration)"
   ]
  },
  {
   "cell_type": "markdown",
   "id": "82fb57cb",
   "metadata": {},
   "source": [
    "## data 불러오기"
   ]
  },
  {
   "cell_type": "code",
   "execution_count": 3,
   "id": "0efe807b",
   "metadata": {},
   "outputs": [],
   "source": [
    "# 데이터가 저장된 경로 설정\n",
    "data_path = '../daplatformers2021/'\n",
    "\n",
    "# 데이터 불러오기\n",
    "train = pd.read_csv(data_path + 'trainset.csv')\n",
    "test = pd.read_csv(data_path + 'testset_final.csv')\n",
    "submission = pd.read_csv(data_path + 'sample_submission_final.csv')"
   ]
  },
  {
   "cell_type": "code",
   "execution_count": 4,
   "id": "196c02dc",
   "metadata": {},
   "outputs": [],
   "source": [
    "train = train.drop(columns=['매니저최초가입일', '매니저최초서비스일', '매니저주소'])"
   ]
  },
  {
   "cell_type": "markdown",
   "id": "17cb90da",
   "metadata": {},
   "source": [
    "### 전처리"
   ]
  },
  {
   "cell_type": "code",
   "execution_count": 2,
   "id": "e10ea124",
   "metadata": {},
   "outputs": [],
   "source": [
    "data = pd.concat([train,test]).reset_index(drop=True)"
   ]
  },
  {
   "cell_type": "markdown",
   "id": "b990f4f0",
   "metadata": {},
   "source": [
    "- 결측치 채움"
   ]
  },
  {
   "cell_type": "code",
   "execution_count": 6,
   "id": "4201d7db",
   "metadata": {},
   "outputs": [],
   "source": [
    "### 결측치 제거\n",
    "\n",
    "# 결측치 0으로 채움\n",
    "data['청소교육이수여부'] = data['청소교육이수여부'].fillna(0)\n",
    "data['CS교육이수여부'] = data['CS교육이수여부'].fillna(0)\n",
    "data['부재중여부'] = data['부재중여부'].fillna(0)\n",
    "# 결측치 최빈값으로 채움\n",
    "data['매니저이동방법'] = data['매니저이동방법'].fillna(data['매니저이동방법'].mode()[0])\n",
    "data['매니저사용휴대폰'] = data['매니저사용휴대폰'].fillna(data['매니저사용휴대폰'].mode()[0])\n",
    "data['고객가입일'] = data['고객가입일'].fillna(data['고객가입일'].mode()[0]) #데이터 바뀌고 test에 생긴 에러\n",
    "data['결재형태'] = data['결재형태'].fillna(data['결재형태'].mode()[0]) #데이터 바뀌고 test에 생긴 에러\n",
    "\n",
    "data['접수시각'] = data['접수시각'].fillna(data['접수시각'].mode()[0])\n",
    "data['반려동물'] = data['반려동물'].fillna('없음')\n",
    "# 결측치 판단하여 없음으로 채움\n",
    "data['우선청소'] = data['우선청소'].fillna('없음')\n",
    "\n",
    "### 평수 평균 확인 -> 31.xx -> 30평대로 채움\n",
    "# (10*len(data.query('평수 == \"10평대\"')) + 20*len(data.query('평수 == \"20평대\"')) + \n",
    "#  30*len(data.query('평수 == \"30평대\"')) + 40*len(data.query('평수 == \"40평대이상\"')))/ \\\n",
    "# (len(data.query('평수 == \"10평대\"'))+len(data.query('평수 == \"20평대\"'))+\n",
    "#  len(data.query('평수 == \"30평대\"'))+len(data.query('평수 == \"40평대이상\"')))\n",
    "data['평수'] = data['평수'].fillna('30평대')"
   ]
  },
  {
   "cell_type": "code",
   "execution_count": 7,
   "id": "1f710304",
   "metadata": {},
   "outputs": [],
   "source": [
    "#test와 train의 구조를 맞춰줌\n",
    "data['매니저생년월일'] = data['매니저생년월일'].astype('str').apply(lambda x: x[0:4])\n",
    "# 새로운 피처 만들기\n",
    "data['매니저나이'] = data['매니저생년월일'].apply(lambda x: 2021-int(x))\n",
    "data['매니저나이대'] = data['매니저나이'].apply(lambda x: f'{str(x)[0]}0대')"
   ]
  },
  {
   "cell_type": "code",
   "execution_count": 9,
   "id": "6c5b7398",
   "metadata": {},
   "outputs": [],
   "source": [
    "# 저장해놓기\n",
    "data_SEQ = data.SEQ\n",
    "# 인코딩을 위하여 제거 / 이후 나중에 병합함\n",
    "y_data = data['매칭성공여부']\n",
    "data = data.drop(columns = ['SEQ','매칭성공여부'])"
   ]
  },
  {
   "cell_type": "code",
   "execution_count": 11,
   "id": "a8946f87",
   "metadata": {},
   "outputs": [],
   "source": [
    "#라벨인코딩\n",
    "\n",
    "#범주형변수 수동으로 분리\n",
    "data[['장기서비스여부','기존고객여부','부재중여부','쿠폰사용여부','매니저성별',\n",
    "         'CS교육이수여부','청소교육이수여부','부재중서비스가능여부','추천인여부']\n",
    "     ] = data[['장기서비스여부','기존고객여부','부재중여부','쿠폰사용여부','매니저성별',\n",
    "         'CS교육이수여부','청소교육이수여부','부재중서비스가능여부','추천인여부'\n",
    "     ]].astype('str')\n",
    "\n",
    "# 범주형 변수와 수치형 변수를 분리\n",
    "cat_features = data.select_dtypes(include=['object']).columns.to_list()\n",
    "num_features = data.select_dtypes(exclude='object').columns.to_list() \n",
    "\n",
    "#수치형변수 scailing\n",
    "data[num_features] = PowerTransformer(standardize=True).fit_transform(data[num_features])"
   ]
  },
  {
   "cell_type": "code",
   "execution_count": 12,
   "id": "99e50952",
   "metadata": {},
   "outputs": [],
   "source": [
    "#위에서 떼어놨던 피처 병합\n",
    "data = pd.concat([data_SEQ, data],axis=1)\n",
    "data = pd.concat([data, y_data],axis=1)"
   ]
  },
  {
   "cell_type": "code",
   "execution_count": 13,
   "id": "06b87cef",
   "metadata": {},
   "outputs": [],
   "source": [
    "#train과 test를 분리\n",
    "train = data.iloc[:23009,:]\n",
    "test = data.iloc[23009:,:]\n",
    "test = test.drop(columns = ['매칭성공여부']).reset_index(drop=True)"
   ]
  },
  {
   "cell_type": "markdown",
   "id": "e5c145fe",
   "metadata": {},
   "source": [
    "### W2V"
   ]
  },
  {
   "cell_type": "code",
   "execution_count": 14,
   "id": "77caaa27",
   "metadata": {},
   "outputs": [],
   "source": [
    "# 오버샘플링\n",
    "def oversample(x, n):\n",
    "    lst = []\n",
    "    for i in x:\n",
    "        tmp = []\n",
    "        for j in range(n):\n",
    "            random.shuffle(i)\n",
    "            tmp += list(i)\n",
    "        lst.append(tmp)\n",
    "    return lst"
   ]
  },
  {
   "cell_type": "code",
   "execution_count": 15,
   "id": "b616e7fd",
   "metadata": {},
   "outputs": [
    {
     "name": "stderr",
     "output_type": "stream",
     "text": [
      "100%|██████████████████████████████████████████████████████████████████████████████████| 27/27 [27:19<00:00, 60.71s/it]\n"
     ]
    }
   ],
   "source": [
    "cat_features_w2v = []\n",
    "# 모든 범주형 피처를 w2v\n",
    "for level in tqdm(cat_features):\n",
    "    # W2V 학습을 하기에는 데이터(즉 corpus)가 부족하여 oversampling을 수행\n",
    "    sentences = [ list(data.query('SEQ == @id')[level].values) for id in data['SEQ'].unique() ]\n",
    "\n",
    "    # oversampling\n",
    "    w2v_input = oversample(sentences, 5)\n",
    "\n",
    "    max_features = 300 # 문자 벡터 차원 수\n",
    "    min_word_count = 1 # 최소 문자 수\n",
    "    num_workers = 4 # 병렬 처리 스레드 수\n",
    "    context = 3 # 문자열 창 크기\n",
    "    downsampling = 1e-3 # 문자 빈도수 Downsample\n",
    "\n",
    "    # 모델 학습\n",
    "    w2v = word2vec.Word2Vec(sentences = w2v_input,\n",
    "                            vector_size = 30,\n",
    "                            window = 3,\n",
    "                            min_count = 1,\n",
    "                            sg = 1).wv\n",
    "    # 필요없는 메모리 unload\n",
    "    w2v.init_sims(replace=True)\n",
    "\n",
    "    #train\n",
    "    train_mean_vector = []\n",
    "\n",
    "    for words in sentences:\n",
    "            tmp = np.zeros(30)             # 다음 customer ID에 대한 vector를 계산하기 전 0으로 초기화\n",
    "            cnt = 0\n",
    "            for word in words:\n",
    "                try:\n",
    "                    tmp += w2v[word]\n",
    "                    cnt += 1\n",
    "                except:\n",
    "                    pass\n",
    "            tmp /= cnt                      # customer ID 에 있는 아이템 갯수로 전체 벡터를 mean해줌  \n",
    "            train_mean_vector.append(tmp)\n",
    "\n",
    "    train_mean_vector = np.array(train_mean_vector)\n",
    "\n",
    "    locals()[f'data_{level}'] = pd.DataFrame(train_mean_vector)\n",
    "    cat_features_w2v.append(locals()[f'data_{level}'])"
   ]
  },
  {
   "cell_type": "code",
   "execution_count": 16,
   "id": "81db2449",
   "metadata": {},
   "outputs": [],
   "source": [
    "w2v_data = pd.concat(cat_features_w2v,axis=1)"
   ]
  },
  {
   "cell_type": "code",
   "execution_count": 1,
   "id": "6c1134a7",
   "metadata": {
    "scrolled": false
   },
   "outputs": [],
   "source": [
    "data = pd.concat([data_SEQ, w2v_data],axis=1)\n",
    "data = pd.concat([w2v_data, y_data],axis=1);data.head(3)"
   ]
  },
  {
   "cell_type": "code",
   "execution_count": 18,
   "id": "59d7e371",
   "metadata": {},
   "outputs": [],
   "source": [
    "# 열 중복 해결\n",
    "col_name= [i for i in range(len(data.columns)-1)]\n",
    "col_name.append('매칭성공여부')\n",
    "data.columns = col_name"
   ]
  },
  {
   "cell_type": "code",
   "execution_count": 19,
   "id": "fd865ca1",
   "metadata": {},
   "outputs": [],
   "source": [
    "#w2v 데이터 저장\n",
    "data.to_csv('w2v_data.csv', index=False)"
   ]
  },
  {
   "cell_type": "code",
   "execution_count": 51,
   "id": "d8524608",
   "metadata": {},
   "outputs": [
    {
     "data": {
      "text/plain": [
       "(None, None, None)"
      ]
     },
     "execution_count": 51,
     "metadata": {},
     "output_type": "execute_result"
    }
   ],
   "source": [
    "beepsound(),beepsound(),beepsound()"
   ]
  },
  {
   "cell_type": "markdown",
   "id": "e2167eac",
   "metadata": {},
   "source": [
    "# END"
   ]
  }
 ],
 "metadata": {
  "kernelspec": {
   "display_name": "ML",
   "language": "python",
   "name": "ml"
  },
  "language_info": {
   "codemirror_mode": {
    "name": "ipython",
    "version": 3
   },
   "file_extension": ".py",
   "mimetype": "text/x-python",
   "name": "python",
   "nbconvert_exporter": "python",
   "pygments_lexer": "ipython3",
   "version": "3.8.11"
  }
 },
 "nbformat": 4,
 "nbformat_minor": 5
}
